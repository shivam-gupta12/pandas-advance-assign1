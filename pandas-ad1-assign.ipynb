{
 "cells": [
  {
   "cell_type": "code",
   "execution_count": 1,
   "id": "268cc18a-4e41-4b83-a0e2-f856d56ccfd5",
   "metadata": {},
   "outputs": [],
   "source": [
    "import pandas as pd\n"
   ]
  },
  {
   "cell_type": "markdown",
   "id": "bb57e86c-95b7-4543-8f13-068e04be34ca",
   "metadata": {},
   "source": [
    "# question 1 --\n",
    "the five functions of pandas library used following are Dataframe , head() , tail() , mean() and groupby"
   ]
  },
  {
   "cell_type": "code",
   "execution_count": 2,
   "id": "5863dd43-8f51-42c7-9d48-b4897fa43a37",
   "metadata": {},
   "outputs": [
    {
     "data": {
      "text/html": [
       "<div>\n",
       "<style scoped>\n",
       "    .dataframe tbody tr th:only-of-type {\n",
       "        vertical-align: middle;\n",
       "    }\n",
       "\n",
       "    .dataframe tbody tr th {\n",
       "        vertical-align: top;\n",
       "    }\n",
       "\n",
       "    .dataframe thead th {\n",
       "        text-align: right;\n",
       "    }\n",
       "</style>\n",
       "<table border=\"1\" class=\"dataframe\">\n",
       "  <thead>\n",
       "    <tr style=\"text-align: right;\">\n",
       "      <th></th>\n",
       "      <th>Name</th>\n",
       "      <th>Age</th>\n",
       "      <th>Gender</th>\n",
       "    </tr>\n",
       "  </thead>\n",
       "  <tbody>\n",
       "    <tr>\n",
       "      <th>0</th>\n",
       "      <td>Alice</td>\n",
       "      <td>25</td>\n",
       "      <td>Female</td>\n",
       "    </tr>\n",
       "    <tr>\n",
       "      <th>1</th>\n",
       "      <td>Bob</td>\n",
       "      <td>30</td>\n",
       "      <td>male</td>\n",
       "    </tr>\n",
       "    <tr>\n",
       "      <th>2</th>\n",
       "      <td>Claire</td>\n",
       "      <td>27</td>\n",
       "      <td>female</td>\n",
       "    </tr>\n",
       "    <tr>\n",
       "      <th>3</th>\n",
       "      <td>Shivam</td>\n",
       "      <td>20</td>\n",
       "      <td>male</td>\n",
       "    </tr>\n",
       "    <tr>\n",
       "      <th>4</th>\n",
       "      <td>Mohit</td>\n",
       "      <td>23</td>\n",
       "      <td>male</td>\n",
       "    </tr>\n",
       "    <tr>\n",
       "      <th>5</th>\n",
       "      <td>arjun</td>\n",
       "      <td>19</td>\n",
       "      <td>male</td>\n",
       "    </tr>\n",
       "    <tr>\n",
       "      <th>6</th>\n",
       "      <td>priya</td>\n",
       "      <td>26</td>\n",
       "      <td>female</td>\n",
       "    </tr>\n",
       "  </tbody>\n",
       "</table>\n",
       "</div>"
      ],
      "text/plain": [
       "     Name Age  Gender\n",
       "0   Alice  25  Female\n",
       "1     Bob  30    male\n",
       "2  Claire  27  female\n",
       "3  Shivam  20    male\n",
       "4   Mohit  23    male\n",
       "5   arjun  19    male\n",
       "6   priya  26  female"
      ]
     },
     "execution_count": 2,
     "metadata": {},
     "output_type": "execute_result"
    }
   ],
   "source": [
    "data = {\"Name\" : [\"Alice\" , \"Bob\" , \"Claire\" , \"Shivam\" , \"Mohit\" , \"arjun\" , \"priya\"] ,\n",
    "        \"Age\" : [\"25\" , \"30\" , \"27\", \"20\" , \"23\" , \"19\" , \"26\"],\n",
    "        \"Gender\" : [\"Female\" , \"male\" , \"female\" , \"male\" , \"male\", \"male\" , \"female\"] }\n",
    "df = pd.DataFrame(data  )\n",
    "df"
   ]
  },
  {
   "cell_type": "code",
   "execution_count": 3,
   "id": "08ad10a8-1d80-4633-8ed4-8ac314e51064",
   "metadata": {},
   "outputs": [
    {
     "data": {
      "text/html": [
       "<div>\n",
       "<style scoped>\n",
       "    .dataframe tbody tr th:only-of-type {\n",
       "        vertical-align: middle;\n",
       "    }\n",
       "\n",
       "    .dataframe tbody tr th {\n",
       "        vertical-align: top;\n",
       "    }\n",
       "\n",
       "    .dataframe thead th {\n",
       "        text-align: right;\n",
       "    }\n",
       "</style>\n",
       "<table border=\"1\" class=\"dataframe\">\n",
       "  <thead>\n",
       "    <tr style=\"text-align: right;\">\n",
       "      <th></th>\n",
       "      <th>Name</th>\n",
       "      <th>Age</th>\n",
       "      <th>Gender</th>\n",
       "    </tr>\n",
       "  </thead>\n",
       "  <tbody>\n",
       "    <tr>\n",
       "      <th>0</th>\n",
       "      <td>Alice</td>\n",
       "      <td>25</td>\n",
       "      <td>Female</td>\n",
       "    </tr>\n",
       "    <tr>\n",
       "      <th>1</th>\n",
       "      <td>Bob</td>\n",
       "      <td>30</td>\n",
       "      <td>male</td>\n",
       "    </tr>\n",
       "    <tr>\n",
       "      <th>2</th>\n",
       "      <td>Claire</td>\n",
       "      <td>27</td>\n",
       "      <td>female</td>\n",
       "    </tr>\n",
       "    <tr>\n",
       "      <th>3</th>\n",
       "      <td>Shivam</td>\n",
       "      <td>20</td>\n",
       "      <td>male</td>\n",
       "    </tr>\n",
       "    <tr>\n",
       "      <th>4</th>\n",
       "      <td>Mohit</td>\n",
       "      <td>23</td>\n",
       "      <td>male</td>\n",
       "    </tr>\n",
       "  </tbody>\n",
       "</table>\n",
       "</div>"
      ],
      "text/plain": [
       "     Name Age  Gender\n",
       "0   Alice  25  Female\n",
       "1     Bob  30    male\n",
       "2  Claire  27  female\n",
       "3  Shivam  20    male\n",
       "4   Mohit  23    male"
      ]
     },
     "execution_count": 3,
     "metadata": {},
     "output_type": "execute_result"
    }
   ],
   "source": [
    "df.head()"
   ]
  },
  {
   "cell_type": "code",
   "execution_count": 4,
   "id": "3d329f22-0b58-443f-926d-6826da3c916d",
   "metadata": {},
   "outputs": [
    {
     "data": {
      "text/html": [
       "<div>\n",
       "<style scoped>\n",
       "    .dataframe tbody tr th:only-of-type {\n",
       "        vertical-align: middle;\n",
       "    }\n",
       "\n",
       "    .dataframe tbody tr th {\n",
       "        vertical-align: top;\n",
       "    }\n",
       "\n",
       "    .dataframe thead th {\n",
       "        text-align: right;\n",
       "    }\n",
       "</style>\n",
       "<table border=\"1\" class=\"dataframe\">\n",
       "  <thead>\n",
       "    <tr style=\"text-align: right;\">\n",
       "      <th></th>\n",
       "      <th>Name</th>\n",
       "      <th>Age</th>\n",
       "      <th>Gender</th>\n",
       "    </tr>\n",
       "  </thead>\n",
       "  <tbody>\n",
       "    <tr>\n",
       "      <th>2</th>\n",
       "      <td>Claire</td>\n",
       "      <td>27</td>\n",
       "      <td>female</td>\n",
       "    </tr>\n",
       "    <tr>\n",
       "      <th>3</th>\n",
       "      <td>Shivam</td>\n",
       "      <td>20</td>\n",
       "      <td>male</td>\n",
       "    </tr>\n",
       "    <tr>\n",
       "      <th>4</th>\n",
       "      <td>Mohit</td>\n",
       "      <td>23</td>\n",
       "      <td>male</td>\n",
       "    </tr>\n",
       "    <tr>\n",
       "      <th>5</th>\n",
       "      <td>arjun</td>\n",
       "      <td>19</td>\n",
       "      <td>male</td>\n",
       "    </tr>\n",
       "    <tr>\n",
       "      <th>6</th>\n",
       "      <td>priya</td>\n",
       "      <td>26</td>\n",
       "      <td>female</td>\n",
       "    </tr>\n",
       "  </tbody>\n",
       "</table>\n",
       "</div>"
      ],
      "text/plain": [
       "     Name Age  Gender\n",
       "2  Claire  27  female\n",
       "3  Shivam  20    male\n",
       "4   Mohit  23    male\n",
       "5   arjun  19    male\n",
       "6   priya  26  female"
      ]
     },
     "execution_count": 4,
     "metadata": {},
     "output_type": "execute_result"
    }
   ],
   "source": [
    "df.tail()"
   ]
  },
  {
   "cell_type": "code",
   "execution_count": 5,
   "id": "9fcf53c0-f464-4d41-9b02-c9be7e71b5ce",
   "metadata": {},
   "outputs": [
    {
     "data": {
      "text/plain": [
       "3614674318846.5713"
      ]
     },
     "execution_count": 5,
     "metadata": {},
     "output_type": "execute_result"
    }
   ],
   "source": [
    "df['Age'].mean()"
   ]
  },
  {
   "cell_type": "code",
   "execution_count": 6,
   "id": "c835feaf-048f-48ef-bb88-2f30f7f58ee8",
   "metadata": {},
   "outputs": [
    {
     "name": "stdout",
     "output_type": "stream",
     "text": [
      "('Female',     Name Age  Gender\n",
      "0  Alice  25  Female)\n",
      "('female',      Name Age  Gender\n",
      "2  Claire  27  female\n",
      "6   priya  26  female)\n",
      "('male',      Name Age Gender\n",
      "1     Bob  30   male\n",
      "3  Shivam  20   male\n",
      "4   Mohit  23   male\n",
      "5   arjun  19   male)\n"
     ]
    }
   ],
   "source": [
    "for i in df.groupby('Gender'):\n",
    "    print(i)"
   ]
  },
  {
   "cell_type": "markdown",
   "id": "a5efcff6-cb4b-4495-bcd1-a5be2e6216a3",
   "metadata": {},
   "source": [
    "# question 2"
   ]
  },
  {
   "cell_type": "code",
   "execution_count": 7,
   "id": "165ba77b-affc-447f-84c9-d66842f1e1b7",
   "metadata": {},
   "outputs": [
    {
     "data": {
      "text/html": [
       "<div>\n",
       "<style scoped>\n",
       "    .dataframe tbody tr th:only-of-type {\n",
       "        vertical-align: middle;\n",
       "    }\n",
       "\n",
       "    .dataframe tbody tr th {\n",
       "        vertical-align: top;\n",
       "    }\n",
       "\n",
       "    .dataframe thead th {\n",
       "        text-align: right;\n",
       "    }\n",
       "</style>\n",
       "<table border=\"1\" class=\"dataframe\">\n",
       "  <thead>\n",
       "    <tr style=\"text-align: right;\">\n",
       "      <th></th>\n",
       "      <th>A</th>\n",
       "      <th>B</th>\n",
       "      <th>C</th>\n",
       "    </tr>\n",
       "  </thead>\n",
       "  <tbody>\n",
       "    <tr>\n",
       "      <th>1</th>\n",
       "      <td>Alice</td>\n",
       "      <td>25</td>\n",
       "      <td>Female</td>\n",
       "    </tr>\n",
       "    <tr>\n",
       "      <th>3</th>\n",
       "      <td>Bob</td>\n",
       "      <td>30</td>\n",
       "      <td>male</td>\n",
       "    </tr>\n",
       "    <tr>\n",
       "      <th>5</th>\n",
       "      <td>Claire</td>\n",
       "      <td>27</td>\n",
       "      <td>female</td>\n",
       "    </tr>\n",
       "    <tr>\n",
       "      <th>7</th>\n",
       "      <td>Shivam</td>\n",
       "      <td>20</td>\n",
       "      <td>male</td>\n",
       "    </tr>\n",
       "    <tr>\n",
       "      <th>9</th>\n",
       "      <td>Mohit</td>\n",
       "      <td>23</td>\n",
       "      <td>male</td>\n",
       "    </tr>\n",
       "    <tr>\n",
       "      <th>11</th>\n",
       "      <td>arjun</td>\n",
       "      <td>19</td>\n",
       "      <td>male</td>\n",
       "    </tr>\n",
       "    <tr>\n",
       "      <th>13</th>\n",
       "      <td>priya</td>\n",
       "      <td>26</td>\n",
       "      <td>female</td>\n",
       "    </tr>\n",
       "  </tbody>\n",
       "</table>\n",
       "</div>"
      ],
      "text/plain": [
       "         A   B       C\n",
       "1    Alice  25  Female\n",
       "3      Bob  30    male\n",
       "5   Claire  27  female\n",
       "7   Shivam  20    male\n",
       "9    Mohit  23    male\n",
       "11   arjun  19    male\n",
       "13   priya  26  female"
      ]
     },
     "execution_count": 7,
     "metadata": {},
     "output_type": "execute_result"
    }
   ],
   "source": [
    "data = {\"A\" : [\"Alice\" , \"Bob\" , \"Claire\" , \"Shivam\" , \"Mohit\" , \"arjun\" , \"priya\"] ,\n",
    "        \"B\" : [\"25\" , \"30\" , \"27\", \"20\" , \"23\" , \"19\" , \"26\"],\n",
    "        \"C\" : [\"Female\" , \"male\" , \"female\" , \"male\" , \"male\", \"male\" , \"female\"] }\n",
    "df = pd.DataFrame(data)\n",
    "\n",
    "def reindexing(DataFrame):\n",
    "    new_index = range(1, len(DataFrame)*2, 2)\n",
    "    new_Dataframe = DataFrame.set_index(pd.Index(new_index))\n",
    "    return new_Dataframe\n",
    "    \n",
    "reindexing(df)\n"
   ]
  },
  {
   "cell_type": "markdown",
   "id": "e065b008-75ba-46c5-b575-3ada881cfc1f",
   "metadata": {},
   "source": [
    "# question 3"
   ]
  },
  {
   "cell_type": "code",
   "execution_count": 11,
   "id": "51408bdc-138b-4adb-a33e-b168601821af",
   "metadata": {},
   "outputs": [
    {
     "name": "stdout",
     "output_type": "stream",
     "text": [
      "82\n"
     ]
    }
   ],
   "source": [
    "data = {\"Name\" : [\"Alice\" , \"Bob\" , \"Claire\" , \"Shivam\" , \"Mohit\" , \"arjun\" , \"priya\"] ,\n",
    "        \"Values\" : [\"25\" , \"30\" , \"27\", \"20\" , \"23\" , \"19\" , \"26\"],\n",
    "        \"Gender\" : [\"Female\" , \"male\" , \"female\" , \"male\" , \"male\", \"male\" , \"female\"] }\n",
    "df = pd.DataFrame(data)\n",
    "df1 = df.head(3)\n",
    "sum=0\n",
    "for i in df1['Values']:  \n",
    "    sum+=int(i)\n",
    "print(sum)"
   ]
  },
  {
   "cell_type": "markdown",
   "id": "0a553eab-bebe-48b7-a79b-de35e6b5aa0f",
   "metadata": {},
   "source": [
    "# question 4"
   ]
  },
  {
   "cell_type": "code",
   "execution_count": 7,
   "id": "f787a1e0-7941-4203-884d-afb926af4e31",
   "metadata": {},
   "outputs": [
    {
     "data": {
      "text/html": [
       "<div>\n",
       "<style scoped>\n",
       "    .dataframe tbody tr th:only-of-type {\n",
       "        vertical-align: middle;\n",
       "    }\n",
       "\n",
       "    .dataframe tbody tr th {\n",
       "        vertical-align: top;\n",
       "    }\n",
       "\n",
       "    .dataframe thead th {\n",
       "        text-align: right;\n",
       "    }\n",
       "</style>\n",
       "<table border=\"1\" class=\"dataframe\">\n",
       "  <thead>\n",
       "    <tr style=\"text-align: right;\">\n",
       "      <th></th>\n",
       "      <th>Text</th>\n",
       "      <th>Word_Count</th>\n",
       "    </tr>\n",
       "  </thead>\n",
       "  <tbody>\n",
       "    <tr>\n",
       "      <th>0</th>\n",
       "      <td>Data Science Masters course is highly curated and uniquely designed according to the latest industry standards. This program instills students the skills essential to knowledge discovery efforts to identify standard, novel, and truly differentiated solutions and decision-making, including skills in managing, querying, analyzing, visualizing, and extracting meaning from extremely large data sets. This trending program provides students with the statistical, mathematical and computational skills needed to meet the large-scale data science challenges of today's professional world. You will learn all the stack required to work in data science industry including cloud infrastructure and real-time industry projects. This course will be taught in Hindi language.</td>\n",
       "      <td>765</td>\n",
       "    </tr>\n",
       "    <tr>\n",
       "      <th>1</th>\n",
       "      <td>my name is shivam</td>\n",
       "      <td>17</td>\n",
       "    </tr>\n",
       "    <tr>\n",
       "      <th>2</th>\n",
       "      <td>i am a data science student</td>\n",
       "      <td>27</td>\n",
       "    </tr>\n",
       "  </tbody>\n",
       "</table>\n",
       "</div>"
      ],
      "text/plain": [
       "                                                                                                                                                                                                                                                                                                                                                                                                                                                                                                                                                                                                                                                                                                                                                                                            Text  \\\n",
       "0  Data Science Masters course is highly curated and uniquely designed according to the latest industry standards. This program instills students the skills essential to knowledge discovery efforts to identify standard, novel, and truly differentiated solutions and decision-making, including skills in managing, querying, analyzing, visualizing, and extracting meaning from extremely large data sets. This trending program provides students with the statistical, mathematical and computational skills needed to meet the large-scale data science challenges of today's professional world. You will learn all the stack required to work in data science industry including cloud infrastructure and real-time industry projects. This course will be taught in Hindi language.   \n",
       "1                                                                                                                                                                                                                                                                                                                                                                                                                                                                                                                                                                                                                                                                                                                                                                              my name is shivam   \n",
       "2                                                                                                                                                                                                                                                                                                                                                                                                                                                                                                                                                                                                                                                                                                                                                                    i am a data science student   \n",
       "\n",
       "   Word_Count  \n",
       "0         765  \n",
       "1          17  \n",
       "2          27  "
      ]
     },
     "execution_count": 7,
     "metadata": {},
     "output_type": "execute_result"
    }
   ],
   "source": [
    "pd.set_option(\"display.max_colwidth\" ,1000)\n",
    "df3 = pd.DataFrame({\"Text\" :[\"Data Science Masters course is highly curated and uniquely designed according to the latest industry standards. This program instills students the skills essential to knowledge discovery efforts to identify standard, novel, and truly differentiated solutions and decision-making, including skills in managing, querying, analyzing, visualizing, and extracting meaning from extremely large data sets. This trending program provides students with the statistical, mathematical and computational skills needed to meet the large-scale data science challenges of today's professional world. You will learn all the stack required to work in data science industry including cloud infrastructure and real-time industry projects. This course will be taught in Hindi language.\" ,\"my name is shivam\", \"i am a data science student\"]})\n",
    "df3[\"Word_Count\"] = df3[\"Text\"].apply(len)\n",
    "df3"
   ]
  },
  {
   "cell_type": "markdown",
   "id": "aebfa291-928c-4c9d-b5de-152d52c6ffef",
   "metadata": {},
   "source": [
    "# question 5\n",
    "Syntax: dataframe.size\n",
    "Return : Returns size of dataframe/series which is equivalent to total number of elements. That is rows x columns.\n",
    "\n",
    "Syntax: dataframe.shape\n",
    "Return : Returns tuple of shape (Rows, columns) of dataframe/series"
   ]
  },
  {
   "cell_type": "markdown",
   "id": "e0a73a87-b3d4-4fac-bb12-9552bbb9f03b",
   "metadata": {},
   "source": [
    "# question 6"
   ]
  },
  {
   "cell_type": "markdown",
   "id": "b8411a28-f4b8-4ba0-97a4-77927ce8b702",
   "metadata": {},
   "source": [
    "read_excel() function is used to read an excel file in pandas"
   ]
  },
  {
   "cell_type": "markdown",
   "id": "23d328aa-607d-42b0-af19-27cc71e577fc",
   "metadata": {},
   "source": [
    "# question 7"
   ]
  },
  {
   "cell_type": "code",
   "execution_count": 5,
   "id": "7782b9df-0e31-447f-bc19-76be3bc5fed2",
   "metadata": {},
   "outputs": [],
   "source": [
    "data = {\"Name\" : [\"Alice\" , \"Bob\" , \"Claire\" , \"Shivam\" , \"Mohit\" , \"arjun\" , \"priya\"] ,\n",
    "        \"Values\" : [\"25\" , \"30\" , \"27\", \"20\" , \"23\" , \"19\" , \"26\"],\n",
    "        \"Gender\" : [\"Female\" , \"male\" , \"female\" , \"male\" , \"male\", \"male\" , \"female\"],\n",
    "       \"Email\" : [\"alice@domain.com\" , \"Bob.doe@domain.com\" , \"Claire_perry@domain.com\" , \"Shivam.gupta@domain.com\" , \"Mohit@domain.com\" , \"arj1un@domain.com\" , \"priya123@domain.com\"]}"
   ]
  },
  {
   "cell_type": "code",
   "execution_count": 6,
   "id": "f89a51ce-cba3-4fc1-9789-a470c59f6740",
   "metadata": {},
   "outputs": [],
   "source": [
    "df = pd.DataFrame(data)"
   ]
  },
  {
   "cell_type": "code",
   "execution_count": 33,
   "id": "bd0c3fa0-fd85-4f2c-b392-b4d5c71703c5",
   "metadata": {},
   "outputs": [],
   "source": [
    "df['Username'] = df['Email'].apply(lambda x : x.split('@')[0])"
   ]
  },
  {
   "cell_type": "markdown",
   "id": "9245d1ae-c917-4c95-8ea0-293b56595919",
   "metadata": {},
   "source": [
    "df"
   ]
  },
  {
   "cell_type": "markdown",
   "id": "167f7d0c-b325-4919-a1e3-49c9f011c149",
   "metadata": {},
   "source": [
    "# question 8"
   ]
  },
  {
   "cell_type": "code",
   "execution_count": 25,
   "id": "aa6710df-e3a5-4624-a70a-2730d4aab748",
   "metadata": {},
   "outputs": [
    {
     "data": {
      "text/html": [
       "<div>\n",
       "<style scoped>\n",
       "    .dataframe tbody tr th:only-of-type {\n",
       "        vertical-align: middle;\n",
       "    }\n",
       "\n",
       "    .dataframe tbody tr th {\n",
       "        vertical-align: top;\n",
       "    }\n",
       "\n",
       "    .dataframe thead th {\n",
       "        text-align: right;\n",
       "    }\n",
       "</style>\n",
       "<table border=\"1\" class=\"dataframe\">\n",
       "  <thead>\n",
       "    <tr style=\"text-align: right;\">\n",
       "      <th></th>\n",
       "      <th>A</th>\n",
       "      <th>B</th>\n",
       "      <th>C</th>\n",
       "    </tr>\n",
       "  </thead>\n",
       "  <tbody>\n",
       "    <tr>\n",
       "      <th>1</th>\n",
       "      <td>8</td>\n",
       "      <td>2</td>\n",
       "      <td>7</td>\n",
       "    </tr>\n",
       "    <tr>\n",
       "      <th>2</th>\n",
       "      <td>6</td>\n",
       "      <td>9</td>\n",
       "      <td>4</td>\n",
       "    </tr>\n",
       "    <tr>\n",
       "      <th>4</th>\n",
       "      <td>9</td>\n",
       "      <td>1</td>\n",
       "      <td>2</td>\n",
       "    </tr>\n",
       "  </tbody>\n",
       "</table>\n",
       "</div>"
      ],
      "text/plain": [
       "   A  B  C\n",
       "1  8  2  7\n",
       "2  6  9  4\n",
       "4  9  1  2"
      ]
     },
     "execution_count": 25,
     "metadata": {},
     "output_type": "execute_result"
    }
   ],
   "source": [
    "data = {\"A\" : [3,8,6,2,9] , \"B\" :[5,2,9,3,1] , \"C\" : [1,7,4,5,2]}\n",
    "df = pd.DataFrame(data)\n",
    "df1 = df[(df['A'] > 5) & (df['B']<10)]\n",
    "df1\n"
   ]
  },
  {
   "cell_type": "markdown",
   "id": "a98032c4-4575-4118-8d4e-a1762e4300ee",
   "metadata": {},
   "source": [
    "# question 9"
   ]
  },
  {
   "cell_type": "code",
   "execution_count": 37,
   "id": "313dad80-285c-497b-a489-776e8d20ba21",
   "metadata": {},
   "outputs": [],
   "source": [
    "data = {\"Name\" : [\"Alice\" , \"Bob\" , \"Claire\" , \"Shivam\" , \"Mohit\" , \"arjun\" , \"priya\"] ,\n",
    "        \"Values\" : [25 , 30 , 27, 20 , 23 , 19 , 26],\n",
    "        \"Gender\" : [\"Female\" , \"male\" , \"female\" , \"male\" , \"male\", \"male\" , \"female\"] }\n",
    "df = pd.DataFrame(data)"
   ]
  },
  {
   "cell_type": "code",
   "execution_count": 38,
   "id": "fb405fd0-beb9-4de6-9b25-2245ba8a6882",
   "metadata": {},
   "outputs": [
    {
     "data": {
      "text/plain": [
       "24.285714285714285"
      ]
     },
     "execution_count": 38,
     "metadata": {},
     "output_type": "execute_result"
    }
   ],
   "source": [
    "df['Values'].mean()"
   ]
  },
  {
   "cell_type": "code",
   "execution_count": 39,
   "id": "b8600209-a6a7-49cc-b804-3be3475d41c3",
   "metadata": {},
   "outputs": [
    {
     "data": {
      "text/plain": [
       "25.0"
      ]
     },
     "execution_count": 39,
     "metadata": {},
     "output_type": "execute_result"
    }
   ],
   "source": [
    "df['Values'].median()"
   ]
  },
  {
   "cell_type": "code",
   "execution_count": 40,
   "id": "95c6629e-b4f7-427a-beb0-bdfd1f9e7f5a",
   "metadata": {},
   "outputs": [
    {
     "data": {
      "text/plain": [
       "3.903600291794133"
      ]
     },
     "execution_count": 40,
     "metadata": {},
     "output_type": "execute_result"
    }
   ],
   "source": [
    "df['Values'].std()"
   ]
  },
  {
   "cell_type": "markdown",
   "id": "8c6cd05a-b53c-4db9-b27a-1ba56eac09b2",
   "metadata": {},
   "source": [
    "# question 10"
   ]
  },
  {
   "cell_type": "code",
   "execution_count": 4,
   "id": "e750fdd4-bb89-43a9-9103-0af1aa668fe4",
   "metadata": {},
   "outputs": [],
   "source": [
    "data = {\"Sales\" : [507 , 605 , 403 , 923 , 777 , 456 , 789 , 345, 888 , 678] , \"Date\" : ['2023-06-22' , '2023-06-23', '2023-06-24' , '2023-06-25', '2023-06-26', '2023-06-27' , '2023-06-28' , '2023-06-29', '2023-06-30' , '2023-06-22']}"
   ]
  },
  {
   "cell_type": "code",
   "execution_count": 7,
   "id": "98f00f9b-14e8-446f-bc56-b1d27930bfb4",
   "metadata": {},
   "outputs": [
    {
     "data": {
      "text/html": [
       "<div>\n",
       "<style scoped>\n",
       "    .dataframe tbody tr th:only-of-type {\n",
       "        vertical-align: middle;\n",
       "    }\n",
       "\n",
       "    .dataframe tbody tr th {\n",
       "        vertical-align: top;\n",
       "    }\n",
       "\n",
       "    .dataframe thead th {\n",
       "        text-align: right;\n",
       "    }\n",
       "</style>\n",
       "<table border=\"1\" class=\"dataframe\">\n",
       "  <thead>\n",
       "    <tr style=\"text-align: right;\">\n",
       "      <th></th>\n",
       "      <th>Sales</th>\n",
       "      <th>Date</th>\n",
       "    </tr>\n",
       "  </thead>\n",
       "  <tbody>\n",
       "    <tr>\n",
       "      <th>0</th>\n",
       "      <td>507</td>\n",
       "      <td>2023-06-22</td>\n",
       "    </tr>\n",
       "    <tr>\n",
       "      <th>1</th>\n",
       "      <td>605</td>\n",
       "      <td>2023-06-23</td>\n",
       "    </tr>\n",
       "    <tr>\n",
       "      <th>2</th>\n",
       "      <td>403</td>\n",
       "      <td>2023-06-24</td>\n",
       "    </tr>\n",
       "    <tr>\n",
       "      <th>3</th>\n",
       "      <td>923</td>\n",
       "      <td>2023-06-25</td>\n",
       "    </tr>\n",
       "    <tr>\n",
       "      <th>4</th>\n",
       "      <td>777</td>\n",
       "      <td>2023-06-26</td>\n",
       "    </tr>\n",
       "    <tr>\n",
       "      <th>5</th>\n",
       "      <td>456</td>\n",
       "      <td>2023-06-27</td>\n",
       "    </tr>\n",
       "    <tr>\n",
       "      <th>6</th>\n",
       "      <td>789</td>\n",
       "      <td>2023-06-28</td>\n",
       "    </tr>\n",
       "    <tr>\n",
       "      <th>7</th>\n",
       "      <td>345</td>\n",
       "      <td>2023-06-29</td>\n",
       "    </tr>\n",
       "    <tr>\n",
       "      <th>8</th>\n",
       "      <td>888</td>\n",
       "      <td>2023-06-30</td>\n",
       "    </tr>\n",
       "    <tr>\n",
       "      <th>9</th>\n",
       "      <td>678</td>\n",
       "      <td>2023-06-22</td>\n",
       "    </tr>\n",
       "  </tbody>\n",
       "</table>\n",
       "</div>"
      ],
      "text/plain": [
       "   Sales        Date\n",
       "0    507  2023-06-22\n",
       "1    605  2023-06-23\n",
       "2    403  2023-06-24\n",
       "3    923  2023-06-25\n",
       "4    777  2023-06-26\n",
       "5    456  2023-06-27\n",
       "6    789  2023-06-28\n",
       "7    345  2023-06-29\n",
       "8    888  2023-06-30\n",
       "9    678  2023-06-22"
      ]
     },
     "execution_count": 7,
     "metadata": {},
     "output_type": "execute_result"
    }
   ],
   "source": [
    "df = pd.DataFrame(data)\n",
    "df"
   ]
  },
  {
   "cell_type": "code",
   "execution_count": 9,
   "id": "b7f790c3-32f3-443f-9262-16f2ebb90d86",
   "metadata": {},
   "outputs": [],
   "source": [
    "df['Moving average'] = df['Sales'].rolling(window = 7).mean()"
   ]
  },
  {
   "cell_type": "code",
   "execution_count": 10,
   "id": "d5bbbdc4-090d-4528-a2e5-895ab742f55f",
   "metadata": {},
   "outputs": [
    {
     "data": {
      "text/html": [
       "<div>\n",
       "<style scoped>\n",
       "    .dataframe tbody tr th:only-of-type {\n",
       "        vertical-align: middle;\n",
       "    }\n",
       "\n",
       "    .dataframe tbody tr th {\n",
       "        vertical-align: top;\n",
       "    }\n",
       "\n",
       "    .dataframe thead th {\n",
       "        text-align: right;\n",
       "    }\n",
       "</style>\n",
       "<table border=\"1\" class=\"dataframe\">\n",
       "  <thead>\n",
       "    <tr style=\"text-align: right;\">\n",
       "      <th></th>\n",
       "      <th>Sales</th>\n",
       "      <th>Date</th>\n",
       "      <th>Moving average</th>\n",
       "    </tr>\n",
       "  </thead>\n",
       "  <tbody>\n",
       "    <tr>\n",
       "      <th>0</th>\n",
       "      <td>507</td>\n",
       "      <td>2023-06-22</td>\n",
       "      <td>NaN</td>\n",
       "    </tr>\n",
       "    <tr>\n",
       "      <th>1</th>\n",
       "      <td>605</td>\n",
       "      <td>2023-06-23</td>\n",
       "      <td>NaN</td>\n",
       "    </tr>\n",
       "    <tr>\n",
       "      <th>2</th>\n",
       "      <td>403</td>\n",
       "      <td>2023-06-24</td>\n",
       "      <td>NaN</td>\n",
       "    </tr>\n",
       "    <tr>\n",
       "      <th>3</th>\n",
       "      <td>923</td>\n",
       "      <td>2023-06-25</td>\n",
       "      <td>NaN</td>\n",
       "    </tr>\n",
       "    <tr>\n",
       "      <th>4</th>\n",
       "      <td>777</td>\n",
       "      <td>2023-06-26</td>\n",
       "      <td>NaN</td>\n",
       "    </tr>\n",
       "    <tr>\n",
       "      <th>5</th>\n",
       "      <td>456</td>\n",
       "      <td>2023-06-27</td>\n",
       "      <td>NaN</td>\n",
       "    </tr>\n",
       "    <tr>\n",
       "      <th>6</th>\n",
       "      <td>789</td>\n",
       "      <td>2023-06-28</td>\n",
       "      <td>637.142857</td>\n",
       "    </tr>\n",
       "    <tr>\n",
       "      <th>7</th>\n",
       "      <td>345</td>\n",
       "      <td>2023-06-29</td>\n",
       "      <td>614.000000</td>\n",
       "    </tr>\n",
       "    <tr>\n",
       "      <th>8</th>\n",
       "      <td>888</td>\n",
       "      <td>2023-06-30</td>\n",
       "      <td>654.428571</td>\n",
       "    </tr>\n",
       "    <tr>\n",
       "      <th>9</th>\n",
       "      <td>678</td>\n",
       "      <td>2023-06-22</td>\n",
       "      <td>693.714286</td>\n",
       "    </tr>\n",
       "  </tbody>\n",
       "</table>\n",
       "</div>"
      ],
      "text/plain": [
       "   Sales        Date  Moving average\n",
       "0    507  2023-06-22             NaN\n",
       "1    605  2023-06-23             NaN\n",
       "2    403  2023-06-24             NaN\n",
       "3    923  2023-06-25             NaN\n",
       "4    777  2023-06-26             NaN\n",
       "5    456  2023-06-27             NaN\n",
       "6    789  2023-06-28      637.142857\n",
       "7    345  2023-06-29      614.000000\n",
       "8    888  2023-06-30      654.428571\n",
       "9    678  2023-06-22      693.714286"
      ]
     },
     "execution_count": 10,
     "metadata": {},
     "output_type": "execute_result"
    }
   ],
   "source": [
    "df"
   ]
  },
  {
   "cell_type": "markdown",
   "id": "65e533d6-d055-4c90-8b8c-19295b4f0e06",
   "metadata": {},
   "source": [
    "# question 11"
   ]
  },
  {
   "cell_type": "code",
   "execution_count": 12,
   "id": "104daaf4-6bcf-4f07-b75b-0bf2efbaeaf9",
   "metadata": {},
   "outputs": [],
   "source": [
    "data = {\"Date\" : ['2023-03-01' , '2023-03-02' , '2023-03-03' , '2023-03-04' , '2023-03-05' , '2023-03-06',  '2023-03-07' , '2023-03-08']}"
   ]
  },
  {
   "cell_type": "code",
   "execution_count": 13,
   "id": "15ee8b5e-002d-4ac8-8770-fc40fde6d1dc",
   "metadata": {},
   "outputs": [
    {
     "data": {
      "text/html": [
       "<div>\n",
       "<style scoped>\n",
       "    .dataframe tbody tr th:only-of-type {\n",
       "        vertical-align: middle;\n",
       "    }\n",
       "\n",
       "    .dataframe tbody tr th {\n",
       "        vertical-align: top;\n",
       "    }\n",
       "\n",
       "    .dataframe thead th {\n",
       "        text-align: right;\n",
       "    }\n",
       "</style>\n",
       "<table border=\"1\" class=\"dataframe\">\n",
       "  <thead>\n",
       "    <tr style=\"text-align: right;\">\n",
       "      <th></th>\n",
       "      <th>Date</th>\n",
       "    </tr>\n",
       "  </thead>\n",
       "  <tbody>\n",
       "    <tr>\n",
       "      <th>0</th>\n",
       "      <td>2023-03-01</td>\n",
       "    </tr>\n",
       "    <tr>\n",
       "      <th>1</th>\n",
       "      <td>2023-03-02</td>\n",
       "    </tr>\n",
       "    <tr>\n",
       "      <th>2</th>\n",
       "      <td>2023-03-03</td>\n",
       "    </tr>\n",
       "    <tr>\n",
       "      <th>3</th>\n",
       "      <td>2023-03-04</td>\n",
       "    </tr>\n",
       "    <tr>\n",
       "      <th>4</th>\n",
       "      <td>2023-03-05</td>\n",
       "    </tr>\n",
       "    <tr>\n",
       "      <th>5</th>\n",
       "      <td>2023-03-06</td>\n",
       "    </tr>\n",
       "    <tr>\n",
       "      <th>6</th>\n",
       "      <td>2023-03-07</td>\n",
       "    </tr>\n",
       "    <tr>\n",
       "      <th>7</th>\n",
       "      <td>2023-03-08</td>\n",
       "    </tr>\n",
       "  </tbody>\n",
       "</table>\n",
       "</div>"
      ],
      "text/plain": [
       "         Date\n",
       "0  2023-03-01\n",
       "1  2023-03-02\n",
       "2  2023-03-03\n",
       "3  2023-03-04\n",
       "4  2023-03-05\n",
       "5  2023-03-06\n",
       "6  2023-03-07\n",
       "7  2023-03-08"
      ]
     },
     "execution_count": 13,
     "metadata": {},
     "output_type": "execute_result"
    }
   ],
   "source": [
    "df = pd.DataFrame(data)\n",
    "df"
   ]
  },
  {
   "cell_type": "code",
   "execution_count": 15,
   "id": "989c0746-fe98-4380-ae94-c86082cc6925",
   "metadata": {},
   "outputs": [],
   "source": [
    "df['Date'] = pd.to_datetime(df['Date'])\n",
    "df['Weekday'] = df['Date'].dt.day_name()"
   ]
  },
  {
   "cell_type": "code",
   "execution_count": 16,
   "id": "f4b0501a-9c6e-4653-94fa-766b742cc596",
   "metadata": {},
   "outputs": [
    {
     "data": {
      "text/html": [
       "<div>\n",
       "<style scoped>\n",
       "    .dataframe tbody tr th:only-of-type {\n",
       "        vertical-align: middle;\n",
       "    }\n",
       "\n",
       "    .dataframe tbody tr th {\n",
       "        vertical-align: top;\n",
       "    }\n",
       "\n",
       "    .dataframe thead th {\n",
       "        text-align: right;\n",
       "    }\n",
       "</style>\n",
       "<table border=\"1\" class=\"dataframe\">\n",
       "  <thead>\n",
       "    <tr style=\"text-align: right;\">\n",
       "      <th></th>\n",
       "      <th>Date</th>\n",
       "      <th>Weekday</th>\n",
       "    </tr>\n",
       "  </thead>\n",
       "  <tbody>\n",
       "    <tr>\n",
       "      <th>0</th>\n",
       "      <td>2023-03-01</td>\n",
       "      <td>Wednesday</td>\n",
       "    </tr>\n",
       "    <tr>\n",
       "      <th>1</th>\n",
       "      <td>2023-03-02</td>\n",
       "      <td>Thursday</td>\n",
       "    </tr>\n",
       "    <tr>\n",
       "      <th>2</th>\n",
       "      <td>2023-03-03</td>\n",
       "      <td>Friday</td>\n",
       "    </tr>\n",
       "    <tr>\n",
       "      <th>3</th>\n",
       "      <td>2023-03-04</td>\n",
       "      <td>Saturday</td>\n",
       "    </tr>\n",
       "    <tr>\n",
       "      <th>4</th>\n",
       "      <td>2023-03-05</td>\n",
       "      <td>Sunday</td>\n",
       "    </tr>\n",
       "    <tr>\n",
       "      <th>5</th>\n",
       "      <td>2023-03-06</td>\n",
       "      <td>Monday</td>\n",
       "    </tr>\n",
       "    <tr>\n",
       "      <th>6</th>\n",
       "      <td>2023-03-07</td>\n",
       "      <td>Tuesday</td>\n",
       "    </tr>\n",
       "    <tr>\n",
       "      <th>7</th>\n",
       "      <td>2023-03-08</td>\n",
       "      <td>Wednesday</td>\n",
       "    </tr>\n",
       "  </tbody>\n",
       "</table>\n",
       "</div>"
      ],
      "text/plain": [
       "        Date    Weekday\n",
       "0 2023-03-01  Wednesday\n",
       "1 2023-03-02   Thursday\n",
       "2 2023-03-03     Friday\n",
       "3 2023-03-04   Saturday\n",
       "4 2023-03-05     Sunday\n",
       "5 2023-03-06     Monday\n",
       "6 2023-03-07    Tuesday\n",
       "7 2023-03-08  Wednesday"
      ]
     },
     "execution_count": 16,
     "metadata": {},
     "output_type": "execute_result"
    }
   ],
   "source": [
    "df"
   ]
  },
  {
   "cell_type": "markdown",
   "id": "ffe737b3-f6c5-4e75-b9eb-a43c1d56a1c8",
   "metadata": {},
   "source": [
    "# question 12"
   ]
  },
  {
   "cell_type": "code",
   "execution_count": 23,
   "id": "c0d44866-8166-48e7-a74f-3eb289dbc653",
   "metadata": {},
   "outputs": [
    {
     "data": {
      "text/html": [
       "<div>\n",
       "<style scoped>\n",
       "    .dataframe tbody tr th:only-of-type {\n",
       "        vertical-align: middle;\n",
       "    }\n",
       "\n",
       "    .dataframe tbody tr th {\n",
       "        vertical-align: top;\n",
       "    }\n",
       "\n",
       "    .dataframe thead th {\n",
       "        text-align: right;\n",
       "    }\n",
       "</style>\n",
       "<table border=\"1\" class=\"dataframe\">\n",
       "  <thead>\n",
       "    <tr style=\"text-align: right;\">\n",
       "      <th></th>\n",
       "      <th>Date</th>\n",
       "    </tr>\n",
       "  </thead>\n",
       "  <tbody>\n",
       "    <tr>\n",
       "      <th>0</th>\n",
       "      <td>2023-01-02 09:15:00</td>\n",
       "    </tr>\n",
       "    <tr>\n",
       "      <th>1</th>\n",
       "      <td>2023-03-02 15:25:02</td>\n",
       "    </tr>\n",
       "    <tr>\n",
       "      <th>2</th>\n",
       "      <td>2023-03-02 15:45:00</td>\n",
       "    </tr>\n",
       "    <tr>\n",
       "      <th>3</th>\n",
       "      <td>2023-01-02 05:55:00</td>\n",
       "    </tr>\n",
       "    <tr>\n",
       "      <th>4</th>\n",
       "      <td>2023-03-02 05:55:00</td>\n",
       "    </tr>\n",
       "  </tbody>\n",
       "</table>\n",
       "</div>"
      ],
      "text/plain": [
       "                  Date\n",
       "0  2023-01-02 09:15:00\n",
       "1  2023-03-02 15:25:02\n",
       "2  2023-03-02 15:45:00\n",
       "3  2023-01-02 05:55:00\n",
       "4  2023-03-02 05:55:00"
      ]
     },
     "execution_count": 23,
     "metadata": {},
     "output_type": "execute_result"
    }
   ],
   "source": [
    "df=pd.DataFrame(data=['2023-01-02 09:15:00','2023-03-02 15:25:02','2023-03-02 15:45:00','2023-01-02 05:55:00','2023-03-02 05:55:00'],columns=['Date'])\n",
    "df"
   ]
  },
  {
   "cell_type": "code",
   "execution_count": 24,
   "id": "4dc35896-c6f1-4359-84cf-d662b21e643a",
   "metadata": {},
   "outputs": [
    {
     "name": "stdout",
     "output_type": "stream",
     "text": [
      "                  Date\n",
      "0  2023-01-02 09:15:00\n",
      "3  2023-01-02 05:55:00\n"
     ]
    }
   ],
   "source": [
    "import pandas as pd\n",
    "from datetime import datetime\n",
    "\n",
    "def filter_dates(df, start_date, end_date):\n",
    "    date_format = '%Y-%m-%d %H:%M:%S'\n",
    "    start_date_str = start_date.strftime(date_format)\n",
    "    end_date_str = end_date.strftime(date_format)\n",
    "    filtered_df = df.loc[(df['Date'] >= start_date_str) & (df['Date'] <= end_date_str)]\n",
    "    return filtered_df\n",
    "\n",
    "start_date = datetime(2023, 1, 1, 0, 0, 0)\n",
    "end_date = datetime(2023, 1, 31, 0, 0, 0)\n",
    "\n",
    "filtered_df = filter_dates(df, start_date, end_date)\n",
    "print(filtered_df)"
   ]
  },
  {
   "cell_type": "markdown",
   "id": "abba4501-fb5e-40ff-a1c4-d64f9b263b16",
   "metadata": {},
   "source": [
    "# question 13"
   ]
  },
  {
   "cell_type": "markdown",
   "id": "dab16537-0eea-4962-a852-6c6f54428e7c",
   "metadata": {},
   "source": [
    "To use the basic functions of pandas, the first and foremost library to be imported is pandas itself.\n",
    "\n",
    "syntax -- import pandas as pd"
   ]
  },
  {
   "cell_type": "code",
   "execution_count": null,
   "id": "2d9eb8db-ff55-4379-a7c6-48cf34034b31",
   "metadata": {},
   "outputs": [],
   "source": []
  }
 ],
 "metadata": {
  "kernelspec": {
   "display_name": "Python 3 (ipykernel)",
   "language": "python",
   "name": "python3"
  },
  "language_info": {
   "codemirror_mode": {
    "name": "ipython",
    "version": 3
   },
   "file_extension": ".py",
   "mimetype": "text/x-python",
   "name": "python",
   "nbconvert_exporter": "python",
   "pygments_lexer": "ipython3",
   "version": "3.10.8"
  }
 },
 "nbformat": 4,
 "nbformat_minor": 5
}
